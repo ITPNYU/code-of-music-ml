{
 "cells": [
  {
   "cell_type": "code",
   "execution_count": 2,
   "id": "a3d97138-8197-4ba5-aa12-6dc0e930e865",
   "metadata": {},
   "outputs": [],
   "source": [
    "#FAST API MUSICGEN INTEGRATION"
   ]
  },
  {
   "cell_type": "code",
   "execution_count": 1,
   "id": "78a174d1-2fde-4d31-bcfa-2c269b6ec127",
   "metadata": {},
   "outputs": [],
   "source": [
    "import asyncio\n",
    "import threading\n",
    "import time\n",
    "from fastapi import FastAPI, HTTPException\n",
    "from fastapi.responses import FileResponse\n",
    "from fastapi.middleware.cors import CORSMiddleware\n",
    "from pydantic import BaseModel\n",
    "import torch\n",
    "from audiocraft.models import MusicGen\n",
    "import numpy as np\n",
    "import soundfile as sf\n",
    "import tempfile\n",
    "import os\n",
    "from pyngrok import ngrok\n",
    "import uvicorn\n",
    "import nest_asyncio"
   ]
  },
  {
   "cell_type": "code",
   "execution_count": null,
   "id": "02c75f76-79d0-46e1-b6ea-86739521eacb",
   "metadata": {},
   "outputs": [],
   "source": [
    "# Enable nested event loops for Jupyter\n",
    "nest_asyncio.apply()\n",
    "\n",
    "model = None\n",
    "\n",
    "class PromptRequest(BaseModel):\n",
    "    prompt: str\n",
    "\n",
    "# Create FastAPI app\n",
    "app = FastAPI(title=\"MusicGen API\")\n",
    "\n",
    "app.add_middleware(\n",
    "    CORSMiddleware,\n",
    "    allow_origins=[\"*\"], \n",
    "    allow_credentials=True,\n",
    "    allow_methods=[\"*\"],  # Allow all methods\n",
    "    allow_headers=[\"*\"],  # Allow all headers\n",
    ")"
   ]
  },
  {
   "cell_type": "code",
   "execution_count": null,
   "id": "afc0a353-22eb-4604-a102-1d585c884bb0",
   "metadata": {},
   "outputs": [
    {
     "name": "stdout",
     "output_type": "stream",
     "text": [
      "Loading MusicGen model...\n"
     ]
    },
    {
     "name": "stderr",
     "output_type": "stream",
     "text": [
      "/home/jupyter-nn2415/.conda/envs/audiocraft/lib/python3.9/site-packages/torch/nn/utils/weight_norm.py:30: UserWarning: torch.nn.utils.weight_norm is deprecated in favor of torch.nn.utils.parametrizations.weight_norm.\n",
      "  warnings.warn(\"torch.nn.utils.weight_norm is deprecated in favor of torch.nn.utils.parametrizations.weight_norm.\")\n"
     ]
    },
    {
     "name": "stdout",
     "output_type": "stream",
     "text": [
      "✅ Model loaded successfully!\n",
      "🔑 Please enter your ngrok auth token:\n",
      "   Get it from: https://dashboard.ngrok.com/get-started/your-authtoken\n",
      "🚀 Server started in background!\n"
     ]
    },
    {
     "name": "stdout",
     "output_type": "stream",
     "text": [
      "Auth Token:  ········\n"
     ]
    },
    {
     "name": "stderr",
     "output_type": "stream",
     "text": [
      "t=2025-07-16T22:41:01-0400 lvl=warn msg=\"ngrok config file found at both XDG and legacy locations, using XDG location\" xdg_path=/home/jupyter-nn2415/.config/ngrok/ngrok.yml legacy_path=/home/jupyter-nn2415/.ngrok2/ngrok.yml\n",
      "t=2025-07-16T22:41:01-0400 lvl=warn msg=\"can't bind default web address, trying alternatives\" obj=web addr=127.0.0.1:4040\n"
     ]
    },
    {
     "name": "stdout",
     "output_type": "stream",
     "text": [
      "🌐 Public URL: NgrokTunnel: \"https://steady-notable-manatee.ngrok-free.app\" -> \"http://localhost:7865\"\n",
      "📱 Local URL: http://localhost:7865\n",
      "📖 API docs: NgrokTunnel: \"https://steady-notable-manatee.ngrok-free.app\" -> \"http://localhost:7865\"/docs\n"
     ]
    },
    {
     "name": "stderr",
     "output_type": "stream",
     "text": [
      "INFO:     Started server process [1880485]\n",
      "INFO:     Waiting for application startup.\n",
      "INFO:     Application startup complete.\n",
      "INFO:     Uvicorn running on http://0.0.0.0:7865 (Press CTRL+C to quit)\n",
      "t=2025-07-16T22:41:06-0400 lvl=warn msg=\"failed to check for update\" obj=updater err=\"Post \\\"https://update.equinox.io/check\\\": context deadline exceeded\"\n"
     ]
    },
    {
     "name": "stdout",
     "output_type": "stream",
     "text": [
      "INFO:     2600:4808:5392:d500:84d9:6a59:910b:6801:0 - \"GET / HTTP/1.1\" 200 OK\n",
      "INFO:     2600:4808:5392:d500:84d9:6a59:910b:6801:0 - \"GET /favicon.ico HTTP/1.1\" 404 Not Found\n"
     ]
    }
   ],
   "source": [
    "@app.get(\"/\")\n",
    "async def root():\n",
    "    return {\"message\": \"MusicGen API is running!\", \"model_loaded\": model is not None}\n",
    "\n",
    "@app.post(\"/generate\")\n",
    "async def generate_audio(request: PromptRequest):\n",
    "    \"\"\"Generate audio from text prompt\"\"\"\n",
    "    tmp_file_path = None\n",
    "    try:\n",
    "        if model is None:\n",
    "            raise HTTPException(status_code=500, detail=\"Model not loaded\")\n",
    "        \n",
    "        print(f\"Generating audio for prompt: {request.prompt}\")\n",
    "        \n",
    "        # Generate audio\n",
    "        wav = model.generate([request.prompt])\n",
    "        \n",
    "        # Convert to numpy array\n",
    "        audio = wav[0].cpu().numpy()\n",
    "        sample_rate = model.sample_rate\n",
    "        \n",
    "        # Ensure audio is 1D (mono) and normalize\n",
    "        if audio.ndim > 1:\n",
    "            audio = audio.squeeze()\n",
    "            if audio.ndim > 1:\n",
    "                audio = audio[0]\n",
    "        \n",
    "        # Normalize audio\n",
    "        audio = audio / np.max(np.abs(audio))\n",
    "        \n",
    "        # Save to temporary file\n",
    "        with tempfile.NamedTemporaryFile(delete=False, suffix='.wav') as tmp_file:\n",
    "            sf.write(tmp_file.name, audio, sample_rate)\n",
    "            tmp_file_path = tmp_file.name\n",
    "            \n",
    "            # Return file response without background cleanup\n",
    "            return FileResponse(\n",
    "                tmp_file.name,\n",
    "                media_type=\"audio/wav\",\n",
    "                filename=\"generated_audio.wav\"\n",
    "            )\n",
    "            \n",
    "    except Exception as e:\n",
    "        # Clean up temp file if there was an error\n",
    "        if tmp_file_path and os.path.exists(tmp_file_path):\n",
    "            try:\n",
    "                os.unlink(tmp_file_path)\n",
    "            except:\n",
    "                pass\n",
    "        raise HTTPException(status_code=500, detail=str(e))\n",
    "\n",
    "@app.get(\"/health\")\n",
    "async def health_check():\n",
    "    \"\"\"Health check endpoint\"\"\"\n",
    "    return {\"status\": \"healthy\", \"model_loaded\": model is not None}\n",
    "\n",
    "def load_model():\n",
    "    \"\"\"Load the MusicGen model\"\"\"\n",
    "    global model\n",
    "    print(\"Loading MusicGen model...\")\n",
    "    model = MusicGen.get_pretrained('facebook/musicgen-small')\n",
    "    model.set_generation_params(duration=2)\n",
    "    print(\"✅ Model loaded successfully!\")\n",
    "\n",
    "def start_server_thread():\n",
    "    \"\"\"Start the server in a separate thread\"\"\"\n",
    "    def run_server():\n",
    "        # Prompt for ngrok auth token\n",
    "        from getpass import getpass\n",
    "        print(\"🔑 Please enter your ngrok auth token:\")\n",
    "        print(\"   Get it from: https://dashboard.ngrok.com/get-started/your-authtoken\")\n",
    "        auth_token = getpass(\"Auth Token: \")\n",
    "        \n",
    "        # Set the auth token\n",
    "        ngrok.set_auth_token(auth_token)\n",
    "        \n",
    "        # Start ngrok tunnel\n",
    "        public_url = ngrok.connect(7865, domain=\"steady-notable-manatee.ngrok-free.app\")\n",
    "        print(f\"🌐 Public URL: {public_url}\")\n",
    "        print(f\"📱 Local URL: http://localhost:7865\")\n",
    "        print(f\"📖 API docs: {public_url}/docs\")\n",
    "        \n",
    "        # Start server\n",
    "        uvicorn.run(app, host=\"0.0.0.0\", port=7865, log_level=\"info\")\n",
    "    \n",
    "    # Start server in background thread\n",
    "    server_thread = threading.Thread(target=run_server, daemon=True)\n",
    "    server_thread.start()\n",
    "    \n",
    "    # Give the server time to start\n",
    "    time.sleep(5)\n",
    "    print(\"🚀 Server started in background!\")\n",
    "\n",
    "# Load model (run this cell first)\n",
    "load_model()\n",
    "\n",
    "# Start server (run this cell second)\n",
    "start_server_thread()\n",
    "\n",
    "# Test the API (run this cell to test)\n",
    "import requests\n",
    "import json\n",
    "\n",
    "def test_api(prompt, save_as=\"test_output.wav\"):\n",
    "    \"\"\"Test function to generate audio via API\"\"\"\n",
    "    try:\n",
    "        response = requests.post(\n",
    "            \"http://localhost:7865/generate\",\n",
    "            json={\"prompt\": prompt},\n",
    "            stream=True\n",
    "        )\n",
    "        \n",
    "        if response.status_code == 200:\n",
    "            with open(save_as, 'wb') as f:\n",
    "                for chunk in response.iter_content(chunk_size=8192):\n",
    "                    f.write(chunk)\n",
    "            print(f\"✅ Audio saved as {save_as}\")\n",
    "            \n",
    "            # Display audio player\n",
    "            from IPython.display import Audio, display\n",
    "            display(Audio(save_as))\n",
    "            \n",
    "        else:\n",
    "            print(f\"❌ Error: {response.status_code} - {response.text}\")\n",
    "            \n",
    "    except Exception as e:\n",
    "        print(f\"❌ Error: {e}\")\n",
    "\n",
    "# Example usage:\n",
    "# test_api(\"single kick drum hit, one shot, no music\", \"kick.wav\")\n",
    "# test_api(\"808 bass drum, electronic, punchy\", \"808.wav\")"
   ]
  },
  {
   "cell_type": "code",
   "execution_count": null,
   "id": "520bae03-e94e-432f-9f0b-a16d43d411d9",
   "metadata": {},
   "outputs": [],
   "source": []
  }
 ],
 "metadata": {
  "kernelspec": {
   "display_name": "AudioCraft",
   "language": "python",
   "name": "audiocraft"
  },
  "language_info": {
   "codemirror_mode": {
    "name": "ipython",
    "version": 3
   },
   "file_extension": ".py",
   "mimetype": "text/x-python",
   "name": "python",
   "nbconvert_exporter": "python",
   "pygments_lexer": "ipython3",
   "version": "3.9.23"
  }
 },
 "nbformat": 4,
 "nbformat_minor": 5
}
